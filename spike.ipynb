{
 "cells": [
  {
   "cell_type": "markdown",
   "id": "5b073316-3eee-42d2-912f-a00aa03dc0b6",
   "metadata": {},
   "source": [
    "# Data Preparation\n",
    "- Get all the trading days\n",
    "- Create two sets for training and testing"
   ]
  },
  {
   "cell_type": "code",
   "execution_count": 5,
   "id": "f4e851c7-b5b7-49f9-a8e6-82f949b08cbc",
   "metadata": {},
   "outputs": [],
   "source": [
    "import datetime as dt\n",
    "import utils\n",
    "import pandas as pd\n",
    "import icharts\n",
    "\n",
    "TEST_START = dt.datetime.strptime(\"2023-01-01\", \"%Y-%m-%d\")\n",
    "TEST_END = dt.datetime.strptime(\"2023-12-31\", \"%Y-%m-%d\")\n",
    "SYMBOL = \"NIFTY 50\"\n",
    "IC_SYMBOL = \"NIFTY\"\n",
    "INTERVAL = utils.INTERVAL_MIN1\n",
    "EXCHANGE = utils.EXCHANGE_NSE\n",
    "\n",
    "pd.set_option(\"display.max_colwidth\", None)\n",
    "pd.set_option(\"display.max_rows\", 200)\n",
    "\n",
    "def build_date_range(date_start, date_end, symbol):\n",
    "    date_range = []\n",
    "    cur_date = date_start\n",
    "    while cur_date < date_end:\n",
    "        if cur_date.weekday() not in [5, 6]:\n",
    "            has_data, _ = utils.has_data(symbol, cur_date, interval=INTERVAL, exchange=EXCHANGE)\n",
    "            if has_data:\n",
    "                date_range.append(cur_date)\n",
    "        cur_date += dt.timedelta(days=1)\n",
    "    return date_range\n",
    "\n",
    "all_dates = pd.DataFrame({\"trade_date\": build_date_range(TEST_START, TEST_END, SYMBOL)})\n",
    "all_dates_shuffled = all_dates.sample(frac=1, random_state=42)\n",
    "\n",
    "train_size = int(0.5 * len(all_dates_shuffled))\n",
    "train_dates = all_dates_shuffled.iloc[:train_size]\n",
    "test_dates = all_dates_shuffled.iloc[train_size:]\n",
    "train_dates = train_dates.sort_values(by=\"trade_date\")\n",
    "train_dates.set_index(\"trade_date\", inplace=True)\n",
    "test_dates = test_dates.sort_values(by=\"trade_date\")\n",
    "test_dates.set_index(\"trade_date\", inplace=True)"
   ]
  },
  {
   "cell_type": "code",
   "execution_count": 6,
   "id": "2509931a-5095-4d0f-bd14-42f7ac7247ee",
   "metadata": {},
   "outputs": [],
   "source": [
    "def get_intraday_data(row):\n",
    "    return utils.get_data(symbol=SYMBOL, date=row.previous_trading_day, interval=INTERVAL, exchange=EXCHANGE)\n",
    "\n",
    "def get_premium(symbol, expiry, trade_date, option_type):\n",
    "    pass\n",
    "\n",
    "def get_symbol_first_candle(symbol, trade_date):\n",
    "    data = utils.get_data(symbol=SYMBOL, date=trade_date, interval=INTERVAL, exchange=EXCHANGE)\n",
    "    return data.iloc[0].open, data.iloc[0].high, data.iloc[0].low, data.iloc[0].close\n",
    "\n",
    "def get_first_candle_close(symbol, trade_date):\n",
    "    data = utils.get_data(symbol=SYMBOL, date=trade_date, interval=INTERVAL, exchange=EXCHANGE)\n",
    "    return data.iloc[0].close\n",
    "\n",
    "def get_last_trading_day(row):\n",
    "    return utils.get_last_trading_day(SYMBOL, row.name, interval=INTERVAL, exchange=utils.EXCHANGE_NSE)\n",
    "\n",
    "train_dates[\"previous_trading_day\"] = None\n",
    "train_dates[\"previous_trading_day\"] = train_dates.apply(get_last_trading_day, axis=1)\n",
    "train_dates[\"previous_trading_candles\"] = train_dates.apply(get_intraday_data, axis=1)\n",
    "train_dates[\"previous_trading_open\"] = train_dates.apply(lambda row: row[\"previous_trading_candles\"].iloc[0].open, axis=1)\n",
    "train_dates[\"previous_trading_close\"] = train_dates.apply(lambda row: row[\"previous_trading_candles\"].iloc[-1].close, axis=1)\n",
    "train_dates[\"expiry\"] = train_dates.apply(lambda row: utils.find_closest_expiry(SYMBOL, row.name), axis=1)\n",
    "train_dates[\"previous_day_option_chain_file_path\"] = train_dates.apply(lambda row: icharts.get_option_chain_file_path(symbol=SYMBOL, expiry=row.expiry, cur_dt=row.previous_trading_day), axis=1)\n",
    "train_dates[\"pdoc\"] = train_dates.apply(lambda row: icharts.get_oc_df(IC_SYMBOL, row.expiry, row.previous_trading_day), axis=1) # pdoc - Previous day option chain\n",
    "train_dates[\"first_candle_ohlc\"] = train_dates.apply(lambda row: get_symbol_first_candle(IC_SYMBOL, row.name), axis=1)\n",
    "train_dates[\"market_open\"] = train_dates.apply(lambda row: row[\"first_candle_ohlc\"][0], axis=1)\n",
    "train_dates[\"first_candle_open\"] = train_dates[\"market_open\"]\n",
    "train_dates[\"first_candle_high\"] = train_dates.apply(lambda row: row[\"first_candle_ohlc\"][1], axis=1)\n",
    "train_dates[\"first_candle_low\"] = train_dates.apply(lambda row: row[\"first_candle_ohlc\"][2], axis=1)\n",
    "train_dates[\"first_candle_close\"] = train_dates.apply(lambda row: row[\"first_candle_ohlc\"][3], axis=1)\n",
    "train_dates[\"market_open_pt\"] = train_dates[\"market_open\"] - train_dates[\"previous_trading_close\"]\n",
    "train_dates[\"market_open_pc\"] = train_dates[\"market_open_pt\"] / train_dates[\"previous_trading_open\"]\n",
    "train_dates[\"first_candle_change_pt\"] = train_dates[\"first_candle_close\"] - train_dates[\"first_candle_open\"]\n",
    "train_dates[\"first_candle_change_pc\"] = train_dates[\"first_candle_change_pt\"] / train_dates[\"first_candle_open\"]\n",
    "# train_dates[[\"first_candle_open\", \"first_candle_close\", \"market_open_pc\", \"first_candle_change_pc\", \"first_candle_change_pt\", \"market_open_pt\", \"market_open_pc\"]]"
   ]
  },
  {
   "cell_type": "markdown",
   "id": "f1638eff-2180-4977-aa48-d6afcc857e48",
   "metadata": {
    "scrolled": true
   },
   "source": [
    "## Calculate Expected Premium for each strike after market opens"
   ]
  },
  {
   "cell_type": "code",
   "execution_count": 7,
   "id": "618f23a3-35c3-47b8-9f39-6c409fa4c942",
   "metadata": {
    "scrolled": true
   },
   "outputs": [
    {
     "name": "stdout",
     "output_type": "stream",
     "text": [
      "Hi\n"
     ]
    }
   ],
   "source": [
    "def calculate_expected_premium(r, delta, theta, market_open_pt):\n",
    "    return delta * market_open_pt + theta\n",
    "\n",
    "def set_expected_change(row):\n",
    "    row[\"pdoc\"][\"ec_ce_pt\"] = row[\"pdoc\"].apply(lambda r: calculate_expected_premium(r, r.ce_delta, r.ce_theta, row.market_open_pt), axis=1) # ec - expected points change in premium\n",
    "    row[\"pdoc\"][\"ec_pe_pt\"] = row[\"pdoc\"].apply(lambda r: calculate_expected_premium(r, r.pe_delta, r.pe_theta, row.market_open_pt), axis=1) # ec - expected points change in premium\n",
    "    row[\"pdoc\"][\"ec_ce_pc\"] = row[\"pdoc\"][\"ec_ce_pt\"] / row[\"pdoc\"][\"ce_ltp\"]\n",
    "    row[\"pdoc\"][\"ec_pe_pc\"] = row[\"pdoc\"][\"ec_pe_pt\"] / row[\"pdoc\"][\"pe_ltp\"]\n",
    "\n",
    "train_dates.apply(set_expected_change, axis=1)\n",
    "print(\"Hi\")"
   ]
  },
  {
   "cell_type": "code",
   "execution_count": 5,
   "id": "0c7e0e71-4238-44da-b77d-6ff86ef8ed8c",
   "metadata": {
    "scrolled": true
   },
   "outputs": [],
   "source": [
    "# x = train_dates.iloc[1]\n",
    "# print(f\"exp: {x[\"pdoc\"].iloc[0].expiry}, date: {x[\"pdoc\"].iloc[0].cur_date}, ch: {x.market_open_pt}, trade: {x.name}\")\n",
    "# x.pdoc[[\"ec_ce_pt\", \"ec_ce_pc\", \"ec_pe_pt\", \"ec_pe_pc\", \"ce_delta\", \"ce_theta\", \"pe_delta\", \"pe_theta\"]]"
   ]
  },
  {
   "cell_type": "code",
   "execution_count": 4,
   "id": "b4e14014-115d-49fb-8535-f1f95ac9b8d7",
   "metadata": {},
   "outputs": [
    {
     "ename": "KeyboardInterrupt",
     "evalue": "",
     "output_type": "error",
     "traceback": [
      "\u001b[0;31m---------------------------------------------------------------------------\u001b[0m",
      "\u001b[0;31mKeyboardInterrupt\u001b[0m                         Traceback (most recent call last)",
      "Cell \u001b[0;32mIn[4], line 44\u001b[0m\n\u001b[1;32m     41\u001b[0m     row\u001b[38;5;241m.\u001b[39mpdoc[\u001b[38;5;124m\"\u001b[39m\u001b[38;5;124mpe_actual_chg_pt\u001b[39m\u001b[38;5;124m\"\u001b[39m] \u001b[38;5;241m=\u001b[39m row\u001b[38;5;241m.\u001b[39mpdoc[\u001b[38;5;124m\"\u001b[39m\u001b[38;5;124mpe_first_candle_close\u001b[39m\u001b[38;5;124m\"\u001b[39m] \u001b[38;5;241m-\u001b[39m row\u001b[38;5;241m.\u001b[39mpdoc[\u001b[38;5;124m\"\u001b[39m\u001b[38;5;124mpe_first_candle_open\u001b[39m\u001b[38;5;124m\"\u001b[39m]\n\u001b[1;32m     42\u001b[0m     row\u001b[38;5;241m.\u001b[39mpdoc[\u001b[38;5;124m\"\u001b[39m\u001b[38;5;124mpe_actual_chg_pc\u001b[39m\u001b[38;5;124m\"\u001b[39m] \u001b[38;5;241m=\u001b[39m row\u001b[38;5;241m.\u001b[39mpdoc[\u001b[38;5;124m\"\u001b[39m\u001b[38;5;124mpe_actual_chg_pt\u001b[39m\u001b[38;5;124m\"\u001b[39m] \u001b[38;5;241m/\u001b[39m row\u001b[38;5;241m.\u001b[39mpdoc[\u001b[38;5;124m\"\u001b[39m\u001b[38;5;124mpe_first_candle_open\u001b[39m\u001b[38;5;124m\"\u001b[39m]\n\u001b[0;32m---> 44\u001b[0m \u001b[43mtrain_dates\u001b[49m\u001b[38;5;241;43m.\u001b[39;49m\u001b[43mapply\u001b[49m\u001b[43m(\u001b[49m\u001b[43mset_actual_points_change\u001b[49m\u001b[43m,\u001b[49m\u001b[43m \u001b[49m\u001b[43maxis\u001b[49m\u001b[38;5;241;43m=\u001b[39;49m\u001b[38;5;241;43m1\u001b[39;49m\u001b[43m)\u001b[49m\n",
      "File \u001b[0;32m~/anaconda3/envs/nse/lib/python3.12/site-packages/pandas/core/frame.py:10347\u001b[0m, in \u001b[0;36mDataFrame.apply\u001b[0;34m(self, func, axis, raw, result_type, args, by_row, engine, engine_kwargs, **kwargs)\u001b[0m\n\u001b[1;32m  10333\u001b[0m \u001b[38;5;28;01mfrom\u001b[39;00m \u001b[38;5;21;01mpandas\u001b[39;00m\u001b[38;5;21;01m.\u001b[39;00m\u001b[38;5;21;01mcore\u001b[39;00m\u001b[38;5;21;01m.\u001b[39;00m\u001b[38;5;21;01mapply\u001b[39;00m \u001b[38;5;28;01mimport\u001b[39;00m frame_apply\n\u001b[1;32m  10335\u001b[0m op \u001b[38;5;241m=\u001b[39m frame_apply(\n\u001b[1;32m  10336\u001b[0m     \u001b[38;5;28mself\u001b[39m,\n\u001b[1;32m  10337\u001b[0m     func\u001b[38;5;241m=\u001b[39mfunc,\n\u001b[0;32m   (...)\u001b[0m\n\u001b[1;32m  10345\u001b[0m     kwargs\u001b[38;5;241m=\u001b[39mkwargs,\n\u001b[1;32m  10346\u001b[0m )\n\u001b[0;32m> 10347\u001b[0m \u001b[38;5;28;01mreturn\u001b[39;00m \u001b[43mop\u001b[49m\u001b[38;5;241;43m.\u001b[39;49m\u001b[43mapply\u001b[49m\u001b[43m(\u001b[49m\u001b[43m)\u001b[49m\u001b[38;5;241m.\u001b[39m__finalize__(\u001b[38;5;28mself\u001b[39m, method\u001b[38;5;241m=\u001b[39m\u001b[38;5;124m\"\u001b[39m\u001b[38;5;124mapply\u001b[39m\u001b[38;5;124m\"\u001b[39m)\n",
      "File \u001b[0;32m~/anaconda3/envs/nse/lib/python3.12/site-packages/pandas/core/apply.py:916\u001b[0m, in \u001b[0;36mFrameApply.apply\u001b[0;34m(self)\u001b[0m\n\u001b[1;32m    913\u001b[0m \u001b[38;5;28;01melif\u001b[39;00m \u001b[38;5;28mself\u001b[39m\u001b[38;5;241m.\u001b[39mraw:\n\u001b[1;32m    914\u001b[0m     \u001b[38;5;28;01mreturn\u001b[39;00m \u001b[38;5;28mself\u001b[39m\u001b[38;5;241m.\u001b[39mapply_raw(engine\u001b[38;5;241m=\u001b[39m\u001b[38;5;28mself\u001b[39m\u001b[38;5;241m.\u001b[39mengine, engine_kwargs\u001b[38;5;241m=\u001b[39m\u001b[38;5;28mself\u001b[39m\u001b[38;5;241m.\u001b[39mengine_kwargs)\n\u001b[0;32m--> 916\u001b[0m \u001b[38;5;28;01mreturn\u001b[39;00m \u001b[38;5;28;43mself\u001b[39;49m\u001b[38;5;241;43m.\u001b[39;49m\u001b[43mapply_standard\u001b[49m\u001b[43m(\u001b[49m\u001b[43m)\u001b[49m\n",
      "File \u001b[0;32m~/anaconda3/envs/nse/lib/python3.12/site-packages/pandas/core/apply.py:1063\u001b[0m, in \u001b[0;36mFrameApply.apply_standard\u001b[0;34m(self)\u001b[0m\n\u001b[1;32m   1061\u001b[0m \u001b[38;5;28;01mdef\u001b[39;00m \u001b[38;5;21mapply_standard\u001b[39m(\u001b[38;5;28mself\u001b[39m):\n\u001b[1;32m   1062\u001b[0m     \u001b[38;5;28;01mif\u001b[39;00m \u001b[38;5;28mself\u001b[39m\u001b[38;5;241m.\u001b[39mengine \u001b[38;5;241m==\u001b[39m \u001b[38;5;124m\"\u001b[39m\u001b[38;5;124mpython\u001b[39m\u001b[38;5;124m\"\u001b[39m:\n\u001b[0;32m-> 1063\u001b[0m         results, res_index \u001b[38;5;241m=\u001b[39m \u001b[38;5;28;43mself\u001b[39;49m\u001b[38;5;241;43m.\u001b[39;49m\u001b[43mapply_series_generator\u001b[49m\u001b[43m(\u001b[49m\u001b[43m)\u001b[49m\n\u001b[1;32m   1064\u001b[0m     \u001b[38;5;28;01melse\u001b[39;00m:\n\u001b[1;32m   1065\u001b[0m         results, res_index \u001b[38;5;241m=\u001b[39m \u001b[38;5;28mself\u001b[39m\u001b[38;5;241m.\u001b[39mapply_series_numba()\n",
      "File \u001b[0;32m~/anaconda3/envs/nse/lib/python3.12/site-packages/pandas/core/apply.py:1081\u001b[0m, in \u001b[0;36mFrameApply.apply_series_generator\u001b[0;34m(self)\u001b[0m\n\u001b[1;32m   1078\u001b[0m \u001b[38;5;28;01mwith\u001b[39;00m option_context(\u001b[38;5;124m\"\u001b[39m\u001b[38;5;124mmode.chained_assignment\u001b[39m\u001b[38;5;124m\"\u001b[39m, \u001b[38;5;28;01mNone\u001b[39;00m):\n\u001b[1;32m   1079\u001b[0m     \u001b[38;5;28;01mfor\u001b[39;00m i, v \u001b[38;5;129;01min\u001b[39;00m \u001b[38;5;28menumerate\u001b[39m(series_gen):\n\u001b[1;32m   1080\u001b[0m         \u001b[38;5;66;03m# ignore SettingWithCopy here in case the user mutates\u001b[39;00m\n\u001b[0;32m-> 1081\u001b[0m         results[i] \u001b[38;5;241m=\u001b[39m \u001b[38;5;28;43mself\u001b[39;49m\u001b[38;5;241;43m.\u001b[39;49m\u001b[43mfunc\u001b[49m\u001b[43m(\u001b[49m\u001b[43mv\u001b[49m\u001b[43m,\u001b[49m\u001b[43m \u001b[49m\u001b[38;5;241;43m*\u001b[39;49m\u001b[38;5;28;43mself\u001b[39;49m\u001b[38;5;241;43m.\u001b[39;49m\u001b[43margs\u001b[49m\u001b[43m,\u001b[49m\u001b[43m \u001b[49m\u001b[38;5;241;43m*\u001b[39;49m\u001b[38;5;241;43m*\u001b[39;49m\u001b[38;5;28;43mself\u001b[39;49m\u001b[38;5;241;43m.\u001b[39;49m\u001b[43mkwargs\u001b[49m\u001b[43m)\u001b[49m\n\u001b[1;32m   1082\u001b[0m         \u001b[38;5;28;01mif\u001b[39;00m \u001b[38;5;28misinstance\u001b[39m(results[i], ABCSeries):\n\u001b[1;32m   1083\u001b[0m             \u001b[38;5;66;03m# If we have a view on v, we need to make a copy because\u001b[39;00m\n\u001b[1;32m   1084\u001b[0m             \u001b[38;5;66;03m#  series_generator will swap out the underlying data\u001b[39;00m\n\u001b[1;32m   1085\u001b[0m             results[i] \u001b[38;5;241m=\u001b[39m results[i]\u001b[38;5;241m.\u001b[39mcopy(deep\u001b[38;5;241m=\u001b[39m\u001b[38;5;28;01mFalse\u001b[39;00m)\n",
      "Cell \u001b[0;32mIn[4], line 23\u001b[0m, in \u001b[0;36mset_actual_points_change\u001b[0;34m(row)\u001b[0m\n\u001b[1;32m     20\u001b[0m         \u001b[38;5;28;01mreturn\u001b[39;00m pd\u001b[38;5;241m.\u001b[39mNA\n\u001b[1;32m     21\u001b[0m     \u001b[38;5;28;01mreturn\u001b[39;00m pr\n\u001b[0;32m---> 23\u001b[0m row\u001b[38;5;241m.\u001b[39mpdoc[\u001b[38;5;124m\"\u001b[39m\u001b[38;5;124mce_premium\u001b[39m\u001b[38;5;124m\"\u001b[39m] \u001b[38;5;241m=\u001b[39m \u001b[43mrow\u001b[49m\u001b[38;5;241;43m.\u001b[39;49m\u001b[43mpdoc\u001b[49m\u001b[38;5;241;43m.\u001b[39;49m\u001b[43mapply\u001b[49m\u001b[43m(\u001b[49m\u001b[38;5;28;43;01mlambda\u001b[39;49;00m\u001b[43m \u001b[49m\u001b[43mr\u001b[49m\u001b[43m:\u001b[49m\u001b[43m \u001b[49m\u001b[43minner_set_actual_points_change\u001b[49m\u001b[43m(\u001b[49m\u001b[43mr\u001b[49m\u001b[43m,\u001b[49m\u001b[43m \u001b[49m\u001b[43micharts\u001b[49m\u001b[38;5;241;43m.\u001b[39;49m\u001b[43mOPTION_TYPE_CALL\u001b[49m\u001b[43m)\u001b[49m\u001b[43m,\u001b[49m\u001b[43m \u001b[49m\u001b[43maxis\u001b[49m\u001b[38;5;241;43m=\u001b[39;49m\u001b[38;5;241;43m1\u001b[39;49m\u001b[43m)\u001b[49m\n\u001b[1;32m     24\u001b[0m row\u001b[38;5;241m.\u001b[39mpdoc[\u001b[38;5;124m\"\u001b[39m\u001b[38;5;124mpe_premium\u001b[39m\u001b[38;5;124m\"\u001b[39m] \u001b[38;5;241m=\u001b[39m row\u001b[38;5;241m.\u001b[39mpdoc\u001b[38;5;241m.\u001b[39mapply(\u001b[38;5;28;01mlambda\u001b[39;00m r: inner_set_actual_points_change(r, icharts\u001b[38;5;241m.\u001b[39mOPTION_TYPE_PUT), axis\u001b[38;5;241m=\u001b[39m\u001b[38;5;241m1\u001b[39m)\n\u001b[1;32m     25\u001b[0m row\u001b[38;5;241m.\u001b[39mpdoc[\u001b[38;5;124m\"\u001b[39m\u001b[38;5;124mce_first_candle\u001b[39m\u001b[38;5;124m\"\u001b[39m] \u001b[38;5;241m=\u001b[39m row\u001b[38;5;241m.\u001b[39mpdoc\u001b[38;5;241m.\u001b[39mapply(\u001b[38;5;28;01mlambda\u001b[39;00m r: get_market_open_ohlc(r\u001b[38;5;241m.\u001b[39mce_premium, r\u001b[38;5;241m.\u001b[39mcur_date), axis\u001b[38;5;241m=\u001b[39m\u001b[38;5;241m1\u001b[39m)\n",
      "File \u001b[0;32m~/anaconda3/envs/nse/lib/python3.12/site-packages/pandas/core/frame.py:10347\u001b[0m, in \u001b[0;36mDataFrame.apply\u001b[0;34m(self, func, axis, raw, result_type, args, by_row, engine, engine_kwargs, **kwargs)\u001b[0m\n\u001b[1;32m  10333\u001b[0m \u001b[38;5;28;01mfrom\u001b[39;00m \u001b[38;5;21;01mpandas\u001b[39;00m\u001b[38;5;21;01m.\u001b[39;00m\u001b[38;5;21;01mcore\u001b[39;00m\u001b[38;5;21;01m.\u001b[39;00m\u001b[38;5;21;01mapply\u001b[39;00m \u001b[38;5;28;01mimport\u001b[39;00m frame_apply\n\u001b[1;32m  10335\u001b[0m op \u001b[38;5;241m=\u001b[39m frame_apply(\n\u001b[1;32m  10336\u001b[0m     \u001b[38;5;28mself\u001b[39m,\n\u001b[1;32m  10337\u001b[0m     func\u001b[38;5;241m=\u001b[39mfunc,\n\u001b[0;32m   (...)\u001b[0m\n\u001b[1;32m  10345\u001b[0m     kwargs\u001b[38;5;241m=\u001b[39mkwargs,\n\u001b[1;32m  10346\u001b[0m )\n\u001b[0;32m> 10347\u001b[0m \u001b[38;5;28;01mreturn\u001b[39;00m \u001b[43mop\u001b[49m\u001b[38;5;241;43m.\u001b[39;49m\u001b[43mapply\u001b[49m\u001b[43m(\u001b[49m\u001b[43m)\u001b[49m\u001b[38;5;241m.\u001b[39m__finalize__(\u001b[38;5;28mself\u001b[39m, method\u001b[38;5;241m=\u001b[39m\u001b[38;5;124m\"\u001b[39m\u001b[38;5;124mapply\u001b[39m\u001b[38;5;124m\"\u001b[39m)\n",
      "File \u001b[0;32m~/anaconda3/envs/nse/lib/python3.12/site-packages/pandas/core/apply.py:916\u001b[0m, in \u001b[0;36mFrameApply.apply\u001b[0;34m(self)\u001b[0m\n\u001b[1;32m    913\u001b[0m \u001b[38;5;28;01melif\u001b[39;00m \u001b[38;5;28mself\u001b[39m\u001b[38;5;241m.\u001b[39mraw:\n\u001b[1;32m    914\u001b[0m     \u001b[38;5;28;01mreturn\u001b[39;00m \u001b[38;5;28mself\u001b[39m\u001b[38;5;241m.\u001b[39mapply_raw(engine\u001b[38;5;241m=\u001b[39m\u001b[38;5;28mself\u001b[39m\u001b[38;5;241m.\u001b[39mengine, engine_kwargs\u001b[38;5;241m=\u001b[39m\u001b[38;5;28mself\u001b[39m\u001b[38;5;241m.\u001b[39mengine_kwargs)\n\u001b[0;32m--> 916\u001b[0m \u001b[38;5;28;01mreturn\u001b[39;00m \u001b[38;5;28;43mself\u001b[39;49m\u001b[38;5;241;43m.\u001b[39;49m\u001b[43mapply_standard\u001b[49m\u001b[43m(\u001b[49m\u001b[43m)\u001b[49m\n",
      "File \u001b[0;32m~/anaconda3/envs/nse/lib/python3.12/site-packages/pandas/core/apply.py:1063\u001b[0m, in \u001b[0;36mFrameApply.apply_standard\u001b[0;34m(self)\u001b[0m\n\u001b[1;32m   1061\u001b[0m \u001b[38;5;28;01mdef\u001b[39;00m \u001b[38;5;21mapply_standard\u001b[39m(\u001b[38;5;28mself\u001b[39m):\n\u001b[1;32m   1062\u001b[0m     \u001b[38;5;28;01mif\u001b[39;00m \u001b[38;5;28mself\u001b[39m\u001b[38;5;241m.\u001b[39mengine \u001b[38;5;241m==\u001b[39m \u001b[38;5;124m\"\u001b[39m\u001b[38;5;124mpython\u001b[39m\u001b[38;5;124m\"\u001b[39m:\n\u001b[0;32m-> 1063\u001b[0m         results, res_index \u001b[38;5;241m=\u001b[39m \u001b[38;5;28;43mself\u001b[39;49m\u001b[38;5;241;43m.\u001b[39;49m\u001b[43mapply_series_generator\u001b[49m\u001b[43m(\u001b[49m\u001b[43m)\u001b[49m\n\u001b[1;32m   1064\u001b[0m     \u001b[38;5;28;01melse\u001b[39;00m:\n\u001b[1;32m   1065\u001b[0m         results, res_index \u001b[38;5;241m=\u001b[39m \u001b[38;5;28mself\u001b[39m\u001b[38;5;241m.\u001b[39mapply_series_numba()\n",
      "File \u001b[0;32m~/anaconda3/envs/nse/lib/python3.12/site-packages/pandas/core/apply.py:1081\u001b[0m, in \u001b[0;36mFrameApply.apply_series_generator\u001b[0;34m(self)\u001b[0m\n\u001b[1;32m   1078\u001b[0m \u001b[38;5;28;01mwith\u001b[39;00m option_context(\u001b[38;5;124m\"\u001b[39m\u001b[38;5;124mmode.chained_assignment\u001b[39m\u001b[38;5;124m\"\u001b[39m, \u001b[38;5;28;01mNone\u001b[39;00m):\n\u001b[1;32m   1079\u001b[0m     \u001b[38;5;28;01mfor\u001b[39;00m i, v \u001b[38;5;129;01min\u001b[39;00m \u001b[38;5;28menumerate\u001b[39m(series_gen):\n\u001b[1;32m   1080\u001b[0m         \u001b[38;5;66;03m# ignore SettingWithCopy here in case the user mutates\u001b[39;00m\n\u001b[0;32m-> 1081\u001b[0m         results[i] \u001b[38;5;241m=\u001b[39m \u001b[38;5;28;43mself\u001b[39;49m\u001b[38;5;241;43m.\u001b[39;49m\u001b[43mfunc\u001b[49m\u001b[43m(\u001b[49m\u001b[43mv\u001b[49m\u001b[43m,\u001b[49m\u001b[43m \u001b[49m\u001b[38;5;241;43m*\u001b[39;49m\u001b[38;5;28;43mself\u001b[39;49m\u001b[38;5;241;43m.\u001b[39;49m\u001b[43margs\u001b[49m\u001b[43m,\u001b[49m\u001b[43m \u001b[49m\u001b[38;5;241;43m*\u001b[39;49m\u001b[38;5;241;43m*\u001b[39;49m\u001b[38;5;28;43mself\u001b[39;49m\u001b[38;5;241;43m.\u001b[39;49m\u001b[43mkwargs\u001b[49m\u001b[43m)\u001b[49m\n\u001b[1;32m   1082\u001b[0m         \u001b[38;5;28;01mif\u001b[39;00m \u001b[38;5;28misinstance\u001b[39m(results[i], ABCSeries):\n\u001b[1;32m   1083\u001b[0m             \u001b[38;5;66;03m# If we have a view on v, we need to make a copy because\u001b[39;00m\n\u001b[1;32m   1084\u001b[0m             \u001b[38;5;66;03m#  series_generator will swap out the underlying data\u001b[39;00m\n\u001b[1;32m   1085\u001b[0m             results[i] \u001b[38;5;241m=\u001b[39m results[i]\u001b[38;5;241m.\u001b[39mcopy(deep\u001b[38;5;241m=\u001b[39m\u001b[38;5;28;01mFalse\u001b[39;00m)\n",
      "Cell \u001b[0;32mIn[4], line 23\u001b[0m, in \u001b[0;36mset_actual_points_change.<locals>.<lambda>\u001b[0;34m(r)\u001b[0m\n\u001b[1;32m     20\u001b[0m         \u001b[38;5;28;01mreturn\u001b[39;00m pd\u001b[38;5;241m.\u001b[39mNA\n\u001b[1;32m     21\u001b[0m     \u001b[38;5;28;01mreturn\u001b[39;00m pr\n\u001b[0;32m---> 23\u001b[0m row\u001b[38;5;241m.\u001b[39mpdoc[\u001b[38;5;124m\"\u001b[39m\u001b[38;5;124mce_premium\u001b[39m\u001b[38;5;124m\"\u001b[39m] \u001b[38;5;241m=\u001b[39m row\u001b[38;5;241m.\u001b[39mpdoc\u001b[38;5;241m.\u001b[39mapply(\u001b[38;5;28;01mlambda\u001b[39;00m r: \u001b[43minner_set_actual_points_change\u001b[49m\u001b[43m(\u001b[49m\u001b[43mr\u001b[49m\u001b[43m,\u001b[49m\u001b[43m \u001b[49m\u001b[43micharts\u001b[49m\u001b[38;5;241;43m.\u001b[39;49m\u001b[43mOPTION_TYPE_CALL\u001b[49m\u001b[43m)\u001b[49m, axis\u001b[38;5;241m=\u001b[39m\u001b[38;5;241m1\u001b[39m)\n\u001b[1;32m     24\u001b[0m row\u001b[38;5;241m.\u001b[39mpdoc[\u001b[38;5;124m\"\u001b[39m\u001b[38;5;124mpe_premium\u001b[39m\u001b[38;5;124m\"\u001b[39m] \u001b[38;5;241m=\u001b[39m row\u001b[38;5;241m.\u001b[39mpdoc\u001b[38;5;241m.\u001b[39mapply(\u001b[38;5;28;01mlambda\u001b[39;00m r: inner_set_actual_points_change(r, icharts\u001b[38;5;241m.\u001b[39mOPTION_TYPE_PUT), axis\u001b[38;5;241m=\u001b[39m\u001b[38;5;241m1\u001b[39m)\n\u001b[1;32m     25\u001b[0m row\u001b[38;5;241m.\u001b[39mpdoc[\u001b[38;5;124m\"\u001b[39m\u001b[38;5;124mce_first_candle\u001b[39m\u001b[38;5;124m\"\u001b[39m] \u001b[38;5;241m=\u001b[39m row\u001b[38;5;241m.\u001b[39mpdoc\u001b[38;5;241m.\u001b[39mapply(\u001b[38;5;28;01mlambda\u001b[39;00m r: get_market_open_ohlc(r\u001b[38;5;241m.\u001b[39mce_premium, r\u001b[38;5;241m.\u001b[39mcur_date), axis\u001b[38;5;241m=\u001b[39m\u001b[38;5;241m1\u001b[39m)\n",
      "Cell \u001b[0;32mIn[4], line 18\u001b[0m, in \u001b[0;36mset_actual_points_change.<locals>.inner_set_actual_points_change\u001b[0;34m(r, option_type)\u001b[0m\n\u001b[1;32m     16\u001b[0m \u001b[38;5;28;01mdef\u001b[39;00m \u001b[38;5;21minner_set_actual_points_change\u001b[39m(r, option_type):\n\u001b[1;32m     17\u001b[0m     \u001b[38;5;28;01mtry\u001b[39;00m:\n\u001b[0;32m---> 18\u001b[0m         pr \u001b[38;5;241m=\u001b[39m \u001b[43micharts\u001b[49m\u001b[38;5;241;43m.\u001b[39;49m\u001b[43mget_opt_pre_df\u001b[49m\u001b[43m(\u001b[49m\u001b[43mSYMBOL\u001b[49m\u001b[43m,\u001b[49m\u001b[43m \u001b[49m\u001b[43mr\u001b[49m\u001b[38;5;241;43m.\u001b[39;49m\u001b[43mexpiry\u001b[49m\u001b[43m,\u001b[49m\u001b[43m \u001b[49m\u001b[43mr\u001b[49m\u001b[38;5;241;43m.\u001b[39;49m\u001b[43mcur_date\u001b[49m\u001b[43m,\u001b[49m\u001b[43m \u001b[49m\u001b[43mr\u001b[49m\u001b[38;5;241;43m.\u001b[39;49m\u001b[43mname\u001b[49m\u001b[43m,\u001b[49m\u001b[43m \u001b[49m\u001b[43moption_type\u001b[49m\u001b[43m)\u001b[49m\n\u001b[1;32m     19\u001b[0m     \u001b[38;5;28;01mexcept\u001b[39;00m \u001b[38;5;167;01mFileNotFoundError\u001b[39;00m:\n\u001b[1;32m     20\u001b[0m         \u001b[38;5;28;01mreturn\u001b[39;00m pd\u001b[38;5;241m.\u001b[39mNA\n",
      "File \u001b[0;32m~/nse-reports-trade/icharts.py:241\u001b[0m, in \u001b[0;36mget_opt_pre_df\u001b[0;34m(symbol, expiry, cur_dt, strike_price, option_type)\u001b[0m\n\u001b[1;32m    239\u001b[0m file_path \u001b[38;5;241m=\u001b[39m get_option_premium_file_path(symbol, expiry, cur_dt, strike_price, option_type)\n\u001b[1;32m    240\u001b[0m opdf \u001b[38;5;241m=\u001b[39m pd\u001b[38;5;241m.\u001b[39mread_csv(file_path, names\u001b[38;5;241m=\u001b[39m[\u001b[38;5;124m\"\u001b[39m\u001b[38;5;124mdate_time\u001b[39m\u001b[38;5;124m\"\u001b[39m, \u001b[38;5;124m\"\u001b[39m\u001b[38;5;124mopen\u001b[39m\u001b[38;5;124m\"\u001b[39m, \u001b[38;5;124m\"\u001b[39m\u001b[38;5;124mhigh\u001b[39m\u001b[38;5;124m\"\u001b[39m, \u001b[38;5;124m\"\u001b[39m\u001b[38;5;124mlow\u001b[39m\u001b[38;5;124m\"\u001b[39m, \u001b[38;5;124m\"\u001b[39m\u001b[38;5;124mclose\u001b[39m\u001b[38;5;124m\"\u001b[39m, \u001b[38;5;124m\"\u001b[39m\u001b[38;5;124mvolume\u001b[39m\u001b[38;5;124m\"\u001b[39m, \u001b[38;5;124m\"\u001b[39m\u001b[38;5;124munknown1\u001b[39m\u001b[38;5;124m\"\u001b[39m, \u001b[38;5;124m\"\u001b[39m\u001b[38;5;124munknown2\u001b[39m\u001b[38;5;124m\"\u001b[39m, \u001b[38;5;124m\"\u001b[39m\u001b[38;5;124munknown3\u001b[39m\u001b[38;5;124m\"\u001b[39m, \u001b[38;5;124m\"\u001b[39m\u001b[38;5;124munknown4\u001b[39m\u001b[38;5;124m\"\u001b[39m])\n\u001b[0;32m--> 241\u001b[0m opdf\u001b[38;5;241m.\u001b[39mindex \u001b[38;5;241m=\u001b[39m \u001b[43mpd\u001b[49m\u001b[38;5;241;43m.\u001b[39;49m\u001b[43mto_datetime\u001b[49m\u001b[43m(\u001b[49m\u001b[43mopdf\u001b[49m\u001b[43m[\u001b[49m\u001b[38;5;124;43m\"\u001b[39;49m\u001b[38;5;124;43mdate_time\u001b[39;49m\u001b[38;5;124;43m\"\u001b[39;49m\u001b[43m]\u001b[49m\u001b[43m,\u001b[49m\u001b[43m \u001b[49m\u001b[38;5;28;43mformat\u001b[39;49m\u001b[38;5;241;43m=\u001b[39;49m\u001b[43mpremium_date_format\u001b[49m\u001b[43m)\u001b[49m\n\u001b[1;32m    242\u001b[0m opdf\u001b[38;5;241m.\u001b[39msort_index()\n\u001b[1;32m    243\u001b[0m \u001b[38;5;28;01mreturn\u001b[39;00m opdf\n",
      "File \u001b[0;32m~/anaconda3/envs/nse/lib/python3.12/site-packages/pandas/core/tools/datetimes.py:1067\u001b[0m, in \u001b[0;36mto_datetime\u001b[0;34m(arg, errors, dayfirst, yearfirst, utc, format, exact, unit, infer_datetime_format, origin, cache)\u001b[0m\n\u001b[1;32m   1065\u001b[0m         result \u001b[38;5;241m=\u001b[39m arg\u001b[38;5;241m.\u001b[39mmap(cache_array)\n\u001b[1;32m   1066\u001b[0m     \u001b[38;5;28;01melse\u001b[39;00m:\n\u001b[0;32m-> 1067\u001b[0m         values \u001b[38;5;241m=\u001b[39m \u001b[43mconvert_listlike\u001b[49m\u001b[43m(\u001b[49m\u001b[43marg\u001b[49m\u001b[38;5;241;43m.\u001b[39;49m\u001b[43m_values\u001b[49m\u001b[43m,\u001b[49m\u001b[43m \u001b[49m\u001b[38;5;28;43mformat\u001b[39;49m\u001b[43m)\u001b[49m\n\u001b[1;32m   1068\u001b[0m         result \u001b[38;5;241m=\u001b[39m arg\u001b[38;5;241m.\u001b[39m_constructor(values, index\u001b[38;5;241m=\u001b[39marg\u001b[38;5;241m.\u001b[39mindex, name\u001b[38;5;241m=\u001b[39marg\u001b[38;5;241m.\u001b[39mname)\n\u001b[1;32m   1069\u001b[0m \u001b[38;5;28;01melif\u001b[39;00m \u001b[38;5;28misinstance\u001b[39m(arg, (ABCDataFrame, abc\u001b[38;5;241m.\u001b[39mMutableMapping)):\n",
      "File \u001b[0;32m~/anaconda3/envs/nse/lib/python3.12/site-packages/pandas/core/tools/datetimes.py:433\u001b[0m, in \u001b[0;36m_convert_listlike_datetimes\u001b[0;34m(arg, format, name, utc, unit, errors, dayfirst, yearfirst, exact)\u001b[0m\n\u001b[1;32m    431\u001b[0m \u001b[38;5;66;03m# `format` could be inferred, or user didn't ask for mixed-format parsing.\u001b[39;00m\n\u001b[1;32m    432\u001b[0m \u001b[38;5;28;01mif\u001b[39;00m \u001b[38;5;28mformat\u001b[39m \u001b[38;5;129;01mis\u001b[39;00m \u001b[38;5;129;01mnot\u001b[39;00m \u001b[38;5;28;01mNone\u001b[39;00m \u001b[38;5;129;01mand\u001b[39;00m \u001b[38;5;28mformat\u001b[39m \u001b[38;5;241m!=\u001b[39m \u001b[38;5;124m\"\u001b[39m\u001b[38;5;124mmixed\u001b[39m\u001b[38;5;124m\"\u001b[39m:\n\u001b[0;32m--> 433\u001b[0m     \u001b[38;5;28;01mreturn\u001b[39;00m \u001b[43m_array_strptime_with_fallback\u001b[49m\u001b[43m(\u001b[49m\u001b[43marg\u001b[49m\u001b[43m,\u001b[49m\u001b[43m \u001b[49m\u001b[43mname\u001b[49m\u001b[43m,\u001b[49m\u001b[43m \u001b[49m\u001b[43mutc\u001b[49m\u001b[43m,\u001b[49m\u001b[43m \u001b[49m\u001b[38;5;28;43mformat\u001b[39;49m\u001b[43m,\u001b[49m\u001b[43m \u001b[49m\u001b[43mexact\u001b[49m\u001b[43m,\u001b[49m\u001b[43m \u001b[49m\u001b[43merrors\u001b[49m\u001b[43m)\u001b[49m\n\u001b[1;32m    435\u001b[0m result, tz_parsed \u001b[38;5;241m=\u001b[39m objects_to_datetime64(\n\u001b[1;32m    436\u001b[0m     arg,\n\u001b[1;32m    437\u001b[0m     dayfirst\u001b[38;5;241m=\u001b[39mdayfirst,\n\u001b[0;32m   (...)\u001b[0m\n\u001b[1;32m    441\u001b[0m     allow_object\u001b[38;5;241m=\u001b[39m\u001b[38;5;28;01mTrue\u001b[39;00m,\n\u001b[1;32m    442\u001b[0m )\n\u001b[1;32m    444\u001b[0m \u001b[38;5;28;01mif\u001b[39;00m tz_parsed \u001b[38;5;129;01mis\u001b[39;00m \u001b[38;5;129;01mnot\u001b[39;00m \u001b[38;5;28;01mNone\u001b[39;00m:\n\u001b[1;32m    445\u001b[0m     \u001b[38;5;66;03m# We can take a shortcut since the datetime64 numpy array\u001b[39;00m\n\u001b[1;32m    446\u001b[0m     \u001b[38;5;66;03m# is in UTC\u001b[39;00m\n",
      "File \u001b[0;32m~/anaconda3/envs/nse/lib/python3.12/site-packages/pandas/core/tools/datetimes.py:467\u001b[0m, in \u001b[0;36m_array_strptime_with_fallback\u001b[0;34m(arg, name, utc, fmt, exact, errors)\u001b[0m\n\u001b[1;32m    456\u001b[0m \u001b[38;5;28;01mdef\u001b[39;00m \u001b[38;5;21m_array_strptime_with_fallback\u001b[39m(\n\u001b[1;32m    457\u001b[0m     arg,\n\u001b[1;32m    458\u001b[0m     name,\n\u001b[0;32m   (...)\u001b[0m\n\u001b[1;32m    462\u001b[0m     errors: \u001b[38;5;28mstr\u001b[39m,\n\u001b[1;32m    463\u001b[0m ) \u001b[38;5;241m-\u001b[39m\u001b[38;5;241m>\u001b[39m Index:\n\u001b[1;32m    464\u001b[0m \u001b[38;5;250m    \u001b[39m\u001b[38;5;124;03m\"\"\"\u001b[39;00m\n\u001b[1;32m    465\u001b[0m \u001b[38;5;124;03m    Call array_strptime, with fallback behavior depending on 'errors'.\u001b[39;00m\n\u001b[1;32m    466\u001b[0m \u001b[38;5;124;03m    \"\"\"\u001b[39;00m\n\u001b[0;32m--> 467\u001b[0m     result, tz_out \u001b[38;5;241m=\u001b[39m \u001b[43marray_strptime\u001b[49m\u001b[43m(\u001b[49m\u001b[43marg\u001b[49m\u001b[43m,\u001b[49m\u001b[43m \u001b[49m\u001b[43mfmt\u001b[49m\u001b[43m,\u001b[49m\u001b[43m \u001b[49m\u001b[43mexact\u001b[49m\u001b[38;5;241;43m=\u001b[39;49m\u001b[43mexact\u001b[49m\u001b[43m,\u001b[49m\u001b[43m \u001b[49m\u001b[43merrors\u001b[49m\u001b[38;5;241;43m=\u001b[39;49m\u001b[43merrors\u001b[49m\u001b[43m,\u001b[49m\u001b[43m \u001b[49m\u001b[43mutc\u001b[49m\u001b[38;5;241;43m=\u001b[39;49m\u001b[43mutc\u001b[49m\u001b[43m)\u001b[49m\n\u001b[1;32m    468\u001b[0m     \u001b[38;5;28;01mif\u001b[39;00m tz_out \u001b[38;5;129;01mis\u001b[39;00m \u001b[38;5;129;01mnot\u001b[39;00m \u001b[38;5;28;01mNone\u001b[39;00m:\n\u001b[1;32m    469\u001b[0m         unit \u001b[38;5;241m=\u001b[39m np\u001b[38;5;241m.\u001b[39mdatetime_data(result\u001b[38;5;241m.\u001b[39mdtype)[\u001b[38;5;241m0\u001b[39m]\n",
      "\u001b[0;31mKeyboardInterrupt\u001b[0m: "
     ]
    }
   ],
   "source": [
    "\n",
    "def get_market_open_ohlc(opdf, date):\n",
    "    if type(opdf) == type(pd.NA):\n",
    "        return (pd.NA,pd.NA,pd.NA,pd.NA,pd.NA)\n",
    "    date = date.replace(hour=9, minute=15, second=0)\n",
    "    last_candles = opdf[opdf.index >= date]\n",
    "    if last_candles.shape[0] > 0:\n",
    "        return last_candles.iloc[0].open, last_candles.iloc[0].high, last_candles.iloc[0].low, last_candles.iloc[0].close, last_candles.iloc[0].volume\n",
    "    return (pd.NA,pd.NA,pd.NA,pd.NA,pd.NA)\n",
    "\n",
    "# print(f\"{SYMBOL}, ex: {x.pdoc.iloc[0].expiry}, x.pdoc.iloc[0].cur_date, x.pdoc.iloc[0].strike_price, utils.OPTION_TYPE_CALL\")\n",
    "# get_option_premium_file_path(SYMBOL, x.pdoc.iloc[30].expiry, x.pdoc.iloc[30].cur_date, x.pdoc.iloc[30].name, icharts.OPTION_TYPE_CALL)\n",
    "# opdf = icharts.get_opt_pre_df(SYMBOL, x.pdoc.iloc[30].expiry, x.pdoc.iloc[30].cur_date, x.pdoc.iloc[30].name, icharts.OPTION_TYPE_PUT)\n",
    "# get_market_open_ohlc(opdf, dt.datetime.strptime(\"2023-01-05\", \"%Y-%m-%d\"))\n",
    "\n",
    "def set_actual_points_change(row):\n",
    "    def inner_set_actual_points_change(r, option_type):\n",
    "        try:\n",
    "            pr = icharts.get_opt_pre_df(SYMBOL, r.expiry, r.cur_date, r.name, option_type)\n",
    "        except FileNotFoundError:\n",
    "            return pd.NA\n",
    "        return pr\n",
    "\n",
    "    row.pdoc[\"ce_premium\"] = row.pdoc.apply(lambda r: inner_set_actual_points_change(r, icharts.OPTION_TYPE_CALL), axis=1)\n",
    "    row.pdoc[\"pe_premium\"] = row.pdoc.apply(lambda r: inner_set_actual_points_change(r, icharts.OPTION_TYPE_PUT), axis=1)\n",
    "    row.pdoc[\"ce_first_candle\"] = row.pdoc.apply(lambda r: get_market_open_ohlc(r.ce_premium, r.cur_date), axis=1)\n",
    "    row.pdoc[\"ce_first_candle_open\"] = row.pdoc.apply(lambda r: r[\"ce_first_candle\"][0], axis=1)\n",
    "    row.pdoc[\"ce_first_candle_high\"] = row.pdoc.apply(lambda r: r[\"ce_first_candle\"][1], axis=1)\n",
    "    row.pdoc[\"ce_first_candle_low\"] = row.pdoc.apply(lambda r: r[\"ce_first_candle\"][2], axis=1)\n",
    "    row.pdoc[\"ce_first_candle_close\"] = row.pdoc.apply(lambda r: r[\"ce_first_candle\"][3], axis=1)\n",
    "    row.pdoc[\"ce_first_candle_volume\"] = row.pdoc.apply(lambda r: r[\"ce_first_candle\"][4], axis=1)\n",
    "    \n",
    "    row.pdoc[\"pe_first_candle\"] = row.pdoc.apply(lambda r: get_market_open_ohlc(r.pe_premium, r.cur_date), axis=1)\n",
    "    row.pdoc[\"pe_first_candle_open\"] = row.pdoc.apply(lambda r: r[\"pe_first_candle\"][0], axis=1)\n",
    "    row.pdoc[\"pe_first_candle_high\"] = row.pdoc.apply(lambda r: r[\"pe_first_candle\"][1], axis=1)\n",
    "    row.pdoc[\"pe_first_candle_low\"] = row.pdoc.apply(lambda r: r[\"pe_first_candle\"][2], axis=1)\n",
    "    row.pdoc[\"pe_first_candle_close\"] = row.pdoc.apply(lambda r: r[\"pe_first_candle\"][3], axis=1)\n",
    "    row.pdoc[\"pe_first_candle_volume\"] = row.pdoc.apply(lambda r: r[\"pe_first_candle\"][4], axis=1)\n",
    "\n",
    "    row.pdoc[\"ce_actual_chg_pt\"] = row.pdoc[\"ce_first_candle_close\"] - row.pdoc[\"ce_first_candle_open\"]\n",
    "    row.pdoc[\"ce_actual_chg_pc\"] = row.pdoc[\"ce_actual_chg_pt\"] / row.pdoc[\"ce_first_candle_open\"]\n",
    "    row.pdoc[\"pe_actual_chg_pt\"] = row.pdoc[\"pe_first_candle_close\"] - row.pdoc[\"pe_first_candle_open\"]\n",
    "    row.pdoc[\"pe_actual_chg_pc\"] = row.pdoc[\"pe_actual_chg_pt\"] / row.pdoc[\"pe_first_candle_open\"]\n",
    "\n",
    "train_dates.apply(set_actual_points_change, axis=1)"
   ]
  },
  {
   "cell_type": "code",
   "execution_count": 14,
   "id": "f272383a-a6c0-425e-a188-813444ec4b53",
   "metadata": {
    "collapsed": true,
    "jupyter": {
     "outputs_hidden": true
    }
   },
   "outputs": [
    {
     "name": "stdout",
     "output_type": "stream",
     "text": [
      "Index(['ce_build_up', 'ce_trend', 'ce_time', 'ce_vega', 'ce_theta', 'ce_gamma',\n",
      "       'ce_delta', 'ce_iv_chg_pc', 'ce_iv_chg', 'ce_iv', 'ce_oi_chg_pc',\n",
      "       'ce_oi_chg', 'ce_oi', 'ce_volume_chg_pc', 'ce_volume_chg', 'ce_volume',\n",
      "       'ce_int_val', 'ce_ext_val', 'ce_ohol', 'ce_ltp_chg_pc', 'ce_ltp_chg',\n",
      "       'ce_ltp', 'ce_vwap', 'ce_bid', 'ce_ask', 'pe_ce_oi', 'pe_ce_oi_chg',\n",
      "       'pe_bid', 'pe_ask', 'pe_vwap', 'pe_ltp', 'pe_ltp_chg', 'pe_ltp_chg_pc',\n",
      "       'pe_ohol', 'pe_int_val', 'pe_ext_val', 'pe_volume', 'pe_volume_chg',\n",
      "       'pe_volume_chg_pc', 'pe_oi', 'pe_oi_chg', 'pe_oi_chg_pc', 'pe_iv',\n",
      "       'pe_iv_chg', 'pe_iv_chg_pc', 'pe_delta', 'pe_gamma', 'pe_theta',\n",
      "       'pe_vega', 'pcr_oi', 'pcr_oi_chg', 'pcr_vol', 'pe_time', 'pe_trend',\n",
      "       'pe_build_up', 'expiry', 'cur_date', 'ec_ce_pt', 'ec_pe_pt', 'ec_ce_pc',\n",
      "       'ec_pe_pc'],\n",
      "      dtype='object')\n"
     ]
    }
   ],
   "source": [
    "x = train_dates.iloc[0]\n",
    "\n",
    "# x.pdoc[[\"ce_ltp\", \"ec_ce_pt\", \"ec_ce_pc\", \"ce_actual_chg_pt\", \"ce_actual_chg_pc\", \"ce_first_candle\"]]\n",
    "print(x.pdoc.columns)"
   ]
  }
 ],
 "metadata": {
  "kernelspec": {
   "display_name": "Python 3 (ipykernel)",
   "language": "python",
   "name": "python3"
  },
  "language_info": {
   "codemirror_mode": {
    "name": "ipython",
    "version": 3
   },
   "file_extension": ".py",
   "mimetype": "text/x-python",
   "name": "python",
   "nbconvert_exporter": "python",
   "pygments_lexer": "ipython3",
   "version": "3.12.1"
  }
 },
 "nbformat": 4,
 "nbformat_minor": 5
}
